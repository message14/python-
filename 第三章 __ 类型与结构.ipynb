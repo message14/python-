{
 "cells": [
  {
   "cell_type": "code",
   "execution_count": 3,
   "metadata": {},
   "outputs": [
    {
     "name": "stdout",
     "output_type": "stream",
     "text": [
      "a 是一个列表\n"
     ]
    }
   ],
   "source": [
    "a = [1, 2, 3]\n",
    "# isinstance是检查Python对象类型的首选方式\n",
    "if isinstance(a, list):\n",
    "    print('a 是一个列表')"
   ]
  },
  {
   "cell_type": "markdown",
   "metadata": {},
   "source": [
    "#### 引用计数"
   ]
  },
  {
   "cell_type": "code",
   "execution_count": 9,
   "metadata": {},
   "outputs": [
    {
     "data": {
      "text/plain": [
       "4540"
      ]
     },
     "execution_count": 9,
     "metadata": {},
     "output_type": "execute_result"
    }
   ],
   "source": [
    "a = 0\n",
    "import sys \n",
    "sys.getrefcount(a)  # 获得对象的当前引用计数"
   ]
  },
  {
   "cell_type": "markdown",
   "metadata": {},
   "source": [
    "#### 对于可变对象(字典,列表),赋值实际上是引用同一个对象"
   ]
  },
  {
   "cell_type": "code",
   "execution_count": 14,
   "metadata": {},
   "outputs": [
    {
     "data": {
      "text/plain": [
       "[1, 2, 100]"
      ]
     },
     "execution_count": 14,
     "metadata": {},
     "output_type": "execute_result"
    }
   ],
   "source": [
    "a = [1, 2, 3]\n",
    "b = a\n",
    "a is b\n",
    "b[2] = 100\n",
    "a"
   ]
  },
  {
   "cell_type": "markdown",
   "metadata": {},
   "source": [
    "#### 对于不可变对象(数字,字符串), 赋值实际上是创建了一个拷贝"
   ]
  },
  {
   "cell_type": "code",
   "execution_count": 17,
   "metadata": {},
   "outputs": [
    {
     "name": "stdout",
     "output_type": "stream",
     "text": [
      "58108968 58108968\n"
     ]
    }
   ],
   "source": [
    "a = \"hello world\"\n",
    "b = a\n",
    "b is a\n",
    "print(id(a), id(b))"
   ]
  },
  {
   "cell_type": "markdown",
   "metadata": {},
   "source": [
    "#### 深复制, 浅复制"
   ]
  },
  {
   "cell_type": "code",
   "execution_count": 34,
   "metadata": {},
   "outputs": [
    {
     "name": "stdout",
     "output_type": "stream",
     "text": [
      "origin : [1, [3, 4], 5, 7, 9]\n",
      "changed : [1, [3, 999], 5, 7, 9]\n",
      "[1, [3, 999], 5, 7, 9]\n"
     ]
    }
   ],
   "source": [
    "# 浅复制将创建一个新对象,它包含的是对原始对象中包含的项的引用\n",
    "# 浅复制是指对列表,字典中的元素只进行第一层级的复制,比如::列表中嵌套的列表的复制其实是子列表的引用,修改引用子列表中的值,都会发生改变\n",
    "a = [1, [3, 4], 5, 7, 9]\n",
    "b = list(a)  # 创建一个a的浅复制\n",
    "print('origin :', b)\n",
    "b[1][1] = 999\n",
    "print('changed :', b)\n",
    "print(a)"
   ]
  },
  {
   "cell_type": "code",
   "execution_count": 35,
   "metadata": {},
   "outputs": [
    {
     "name": "stdout",
     "output_type": "stream",
     "text": [
      "origin : [1, [3, 4], 5, 7, 9]\n",
      "changed : [1, [3, 999], 5, 7, 9]\n",
      "[1, [3, 4], 5, 7, 9]\n"
     ]
    }
   ],
   "source": [
    "# 深复制\n",
    "import copy\n",
    "a = [1, [3, 4], 5, 7, 9]\n",
    "b = copy.deepcopy(a)  # 创建一个a的浅复制\n",
    "print('origin :', b)\n",
    "b[1][1] = 999\n",
    "print('changed :', b)\n",
    "print(a)"
   ]
  },
  {
   "cell_type": "code",
   "execution_count": 36,
   "metadata": {},
   "outputs": [
    {
     "data": {
      "text/plain": [
       "['GOOG', 100, 490.43]"
      ]
     },
     "execution_count": 36,
     "metadata": {},
     "output_type": "execute_result"
    }
   ],
   "source": [
    "line = \"GOOG, 100, 490.43\"\n",
    "field_types = [str, int, float]\n",
    "raw_fields = line.split(',')\n",
    "fields = [ty(val) for ty, val in zip(field_types, raw_fields)]\n",
    "fields"
   ]
  },
  {
   "cell_type": "raw",
   "metadata": {},
   "source": [
    "#### 序列表示索引为非负整数的有序对象的集合,包括字符串,列表,元组.字符串是字符的序列,\n",
    "#### 列表和元组是任意Python对象的序列,字符串和元组是不可变的,列表支持插入,删除,替换元素\n",
    "#### 所有序列都支持迭代"
   ]
  },
  {
   "cell_type": "code",
   "execution_count": 46,
   "metadata": {},
   "outputs": [
    {
     "name": "stdout",
     "output_type": "stream",
     "text": [
      "e\n",
      "el\n",
      "el ol\n",
      "13\n",
      "True\n",
      "True\n"
     ]
    }
   ],
   "source": [
    "a = \"hello world !\"\n",
    "print(a[1])   # 返回序列的元素\n",
    "print(a[1:3])  # 返回序列的切片\n",
    "print(a[1:10:2])  # 返回一个扩展的切片 s[i:j:stride]\n",
    "print(len(a))  # 返回s中元素的个数\n",
    "print(all(a))  # 检查s中所有项是否为True\n",
    "print(any(a))  # 检查s中任意项是否为True"
   ]
  },
  {
   "cell_type": "code",
   "execution_count": 48,
   "metadata": {},
   "outputs": [],
   "source": [
    "# 适用于可变列表\n",
    "s = [1, 2, 3, 4, 5, 6, 7, 8, 9 ,0]\n",
    "# s[i] = v 序列项赋值\n",
    "# s[i:j]= v 切片项赋值\n",
    "# s[i:j:stride] = v 扩展切片赋值\n",
    "# del s[i]\n",
    "# del s[i:j]\n",
    "# del s[i:j:stride]"
   ]
  },
  {
   "cell_type": "markdown",
   "metadata": {},
   "source": [
    "#### 列表的方法"
   ]
  },
  {
   "cell_type": "code",
   "execution_count": null,
   "metadata": {},
   "outputs": [],
   "source": [
    "list(s) #可将任意可迭代类型转换成列表,如果s已经是一个列表,则该函数构造的新列表是s的一个浅复制\n",
    "s.append(x)  \n",
    "s.extend(t)  # 将一个新列表t追加的s末尾\n",
    "s.count(x)   # 计算s中x出现的次数\n",
    "s.index(x, [, start[, stop]])\n",
    "s.insert(i, x)  # 在索引i处插入x\n",
    "s.pop([i])   # 返回元素i并从列表中移除它, 如果省略i,则返回列表中最后一个元素\n",
    "s.remove(x)   # 搜索x并从s中移除它\n",
    "s.reverse()\n",
    "s.sort([key, [, reverse]])"
   ]
  }
 ],
 "metadata": {
  "kernelspec": {
   "display_name": "Python 3",
   "language": "python",
   "name": "python3"
  },
  "language_info": {
   "codemirror_mode": {
    "name": "ipython",
    "version": 3
   },
   "file_extension": ".py",
   "mimetype": "text/x-python",
   "name": "python",
   "nbconvert_exporter": "python",
   "pygments_lexer": "ipython3",
   "version": "3.6.5"
  }
 },
 "nbformat": 4,
 "nbformat_minor": 2
}
